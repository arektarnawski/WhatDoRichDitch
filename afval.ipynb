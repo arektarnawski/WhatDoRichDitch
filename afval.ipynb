{
 "cells": [
  {
   "cell_type": "code",
   "execution_count": 1,
   "id": "1e98df03-8834-43b9-af2f-9943c3725715",
   "metadata": {},
   "outputs": [],
   "source": [
    "import pandas as pd\n",
    "\n",
    "data_raw = pd.read_csv('afval_weging.csv', delimiter=';')\n",
    "\n",
    "pd.set_option('display.max_columns', None)\n",
    "pd.set_option('display.max_rows', 100)"
   ]
  },
  {
   "cell_type": "code",
   "execution_count": 56,
   "id": "7407fdd0-60ec-4db3-9b15-da6d585a9612",
   "metadata": {},
   "outputs": [],
   "source": [
    "data = data_raw.copy()\n",
    "data['weging_datum_weging'] = pd.to_datetime(data['weging_datum_weging'])"
   ]
  },
  {
   "cell_type": "code",
   "execution_count": 3,
   "id": "d549c0d6-f2d3-4c7a-a893-abce93dda2e1",
   "metadata": {},
   "outputs": [],
   "source": [
    "data['year'] = data['weging_datum_weging'].dt.year"
   ]
  },
  {
   "cell_type": "code",
   "execution_count": 4,
   "id": "c13b3726-3f56-45bb-a166-ac7a4b7431ed",
   "metadata": {},
   "outputs": [
    {
     "name": "stderr",
     "output_type": "stream",
     "text": [
      "/Users/Arek/opt/anaconda3/lib/python3.8/site-packages/seaborn/_decorators.py:36: FutureWarning: Pass the following variable as a keyword arg: x. From version 0.12, the only valid positional argument will be `data`, and passing other arguments without an explicit keyword will result in an error or misinterpretation.\n",
      "  warnings.warn(\n"
     ]
    },
    {
     "data": {
      "image/png": "[encoded data removed]",
      "text/plain": [
       "<Figure size 432x288 with 1 Axes>"
      ]
     },
     "metadata": {
      "needs_background": "light"
     },
     "output_type": "display_data"
    },
    {
     "data": {
      "text/plain": [
       "(2050497, 68)"
      ]
     },
     "execution_count": 4,
     "metadata": {},
     "output_type": "execute_result"
    }
   ],
   "source": [
    "import seaborn as sns\n",
    "import matplotlib.pyplot as plt\n",
    "\n",
    "sns.countplot(data['year'])\n",
    "plt.show()\n",
    "data.shape"
   ]
  },
  {
   "cell_type": "code",
   "execution_count": 57,
   "id": "87c23e1f-90e5-4a4b-8c3d-664cf83e131d",
   "metadata": {},
   "outputs": [
    {
     "data": {
      "text/plain": [
       "(1630590, 67)"
      ]
     },
     "execution_count": 57,
     "metadata": {},
     "output_type": "execute_result"
    }
   ],
   "source": [
    "data = data[data['weging_datum_weging'].between('2017-01-01','2020-12-31')]\n",
    "data.shape # 1.63M rows to work with"
   ]
  },
  {
   "cell_type": "code",
   "execution_count": 58,
   "id": "7e3ea9f0-557e-4a94-85d6-7a21c0083680",
   "metadata": {},
   "outputs": [],
   "source": [
    "data.describe(include = 'all').T\n",
    "\n",
    "# cluster_id - some identification of the actual container, need to dig deeper\n",
    "# weging_id - unique identifier\n",
    "# weging_datum_weging - date of the weighing\n",
    "# weging_fractie_omschrijving\t- type of waste\n",
    "# weging_eerste_weging - first weighing (container + waste)\n",
    "# weging_tweede_weging - second weighing (empty container)\n",
    "# weging_netto_gewicht - the difference between two above, netto weight of the waste\n",
    "# weging_wgs84_lat - containers(cluster's in fact) latitude in WGS84 coordinate system\n",
    "# weging_wgs84_lon - containers(cluster's in fact) longitude in WGS84 coordinate system\n",
    "# gbd_ggwgebied_naam - district name\n",
    "# gbd_ggwgebied_code - district identifier (one of many; this will be used to match the economical/population data)\n",
    "# bag_adres_openbare_ruimte_naam - streetname of where the container is\n",
    "\n",
    "data = data[['cluster_id','weging_id','weging_datum_weging','weging_fractie_omschrijving','weging_eerste_weging','weging_tweede_weging','weging_netto_gewicht','weging_wgs84_lat','weging_wgs84_lon','gbd_ggwgebied_naam','gbd_ggwgebied_code','bag_adres_openbare_ruimte_naam']]"
   ]
  },
  {
   "cell_type": "code",
   "execution_count": 7,
   "id": "32ef8008-0c76-4d64-bec1-6588529318bb",
   "metadata": {},
   "outputs": [
    {
     "data": {
      "text/html": [
       "<div>\n",
       "<style scoped>\n",
       "    .dataframe tbody tr th:only-of-type {\n",
       "        vertical-align: middle;\n",
       "    }\n",
       "\n",
       "    .dataframe tbody tr th {\n",
       "        vertical-align: top;\n",
       "    }\n",
       "\n",
       "    .dataframe thead th {\n",
       "        text-align: right;\n",
       "    }\n",
       "</style>\n",
       "<table border=\"1\" class=\"dataframe\">\n",
       "  <thead>\n",
       "    <tr style=\"text-align: right;\">\n",
       "      <th></th>\n",
       "      <th>cluster_id</th>\n",
       "      <th>weging_id</th>\n",
       "      <th>weging_datum_weging</th>\n",
       "      <th>weging_fractie_omschrijving</th>\n",
       "      <th>weging_eerste_weging</th>\n",
       "      <th>weging_tweede_weging</th>\n",
       "      <th>weging_netto_gewicht</th>\n",
       "      <th>weging_wgs84_lat</th>\n",
       "      <th>weging_wgs84_lon</th>\n",
       "      <th>gbd_ggwgebied_naam</th>\n",
       "      <th>gbd_ggwgebied_code</th>\n",
       "      <th>bag_adres_openbare_ruimte_naam</th>\n",
       "    </tr>\n",
       "  </thead>\n",
       "  <tbody>\n",
       "    <tr>\n",
       "      <th>0</th>\n",
       "      <td>128920.051|484940.826</td>\n",
       "      <td>10000~2017-02-17~09:12:03~26</td>\n",
       "      <td>2017-02-17</td>\n",
       "      <td>Rest</td>\n",
       "      <td>820</td>\n",
       "      <td>745.0</td>\n",
       "      <td>75.0</td>\n",
       "      <td>52.35202</td>\n",
       "      <td>5.00440</td>\n",
       "      <td>IJburg, Zeeburgereiland</td>\n",
       "      <td>DX16</td>\n",
       "      <td>Eva Besnyöstraat</td>\n",
       "    </tr>\n",
       "    <tr>\n",
       "      <th>1</th>\n",
       "      <td>120064.880|486202.591</td>\n",
       "      <td>10000~2017-03-30~07:39:31~21</td>\n",
       "      <td>2017-03-30</td>\n",
       "      <td>Rest</td>\n",
       "      <td>685</td>\n",
       "      <td>585.0</td>\n",
       "      <td>100.0</td>\n",
       "      <td>52.36260</td>\n",
       "      <td>4.87426</td>\n",
       "      <td>Oud-West, De Baarsjes</td>\n",
       "      <td>DX05</td>\n",
       "      <td>Overtoom</td>\n",
       "    </tr>\n",
       "    <tr>\n",
       "      <th>2</th>\n",
       "      <td>NaN</td>\n",
       "      <td>10000~2017-03-31~11:18:50~15</td>\n",
       "      <td>2017-03-31</td>\n",
       "      <td>Rest</td>\n",
       "      <td>590</td>\n",
       "      <td>-225.0</td>\n",
       "      <td>815.0</td>\n",
       "      <td>52.36653</td>\n",
       "      <td>4.86935</td>\n",
       "      <td>NaN</td>\n",
       "      <td>NaN</td>\n",
       "      <td>NaN</td>\n",
       "    </tr>\n",
       "    <tr>\n",
       "      <th>3</th>\n",
       "      <td>126423.325|481859.655</td>\n",
       "      <td>10000~2017-05-08~07:48:44~1</td>\n",
       "      <td>2017-05-08</td>\n",
       "      <td>Rest</td>\n",
       "      <td>1145</td>\n",
       "      <td>655.0</td>\n",
       "      <td>490.0</td>\n",
       "      <td>52.32406</td>\n",
       "      <td>4.96816</td>\n",
       "      <td>Bijlmer-Oost</td>\n",
       "      <td>DX21</td>\n",
       "      <td>Gravestein</td>\n",
       "    </tr>\n",
       "    <tr>\n",
       "      <th>4</th>\n",
       "      <td>121060.889|482000.344</td>\n",
       "      <td>10000~2017-12-01~13:20:22~221</td>\n",
       "      <td>2017-12-01</td>\n",
       "      <td>Rest</td>\n",
       "      <td>870</td>\n",
       "      <td>610.0</td>\n",
       "      <td>260.0</td>\n",
       "      <td>52.32489</td>\n",
       "      <td>4.88950</td>\n",
       "      <td>Buitenveldert, Zuidas</td>\n",
       "      <td>DX11</td>\n",
       "      <td>Van Boshuizenstraat</td>\n",
       "    </tr>\n",
       "  </tbody>\n",
       "</table>\n",
       "</div>"
      ],
      "text/plain": [
       "              cluster_id                      weging_id weging_datum_weging  \\\n",
       "0  128920.051|484940.826   10000~2017-02-17~09:12:03~26          2017-02-17   \n",
       "1  120064.880|486202.591   10000~2017-03-30~07:39:31~21          2017-03-30   \n",
       "2                    NaN   10000~2017-03-31~11:18:50~15          2017-03-31   \n",
       "3  126423.325|481859.655    10000~2017-05-08~07:48:44~1          2017-05-08   \n",
       "4  121060.889|482000.344  10000~2017-12-01~13:20:22~221          2017-12-01   \n",
       "\n",
       "  weging_fractie_omschrijving  weging_eerste_weging  weging_tweede_weging  \\\n",
       "0                        Rest                   820                 745.0   \n",
       "1                        Rest                   685                 585.0   \n",
       "2                        Rest                   590                -225.0   \n",
       "3                        Rest                  1145                 655.0   \n",
       "4                        Rest                   870                 610.0   \n",
       "\n",
       "   weging_netto_gewicht  weging_wgs84_lat  weging_wgs84_lon  \\\n",
       "0                  75.0          52.35202           5.00440   \n",
       "1                 100.0          52.36260           4.87426   \n",
       "2                 815.0          52.36653           4.86935   \n",
       "3                 490.0          52.32406           4.96816   \n",
       "4                 260.0          52.32489           4.88950   \n",
       "\n",
       "        gbd_ggwgebied_naam gbd_ggwgebied_code bag_adres_openbare_ruimte_naam  \n",
       "0  IJburg, Zeeburgereiland               DX16               Eva Besnyöstraat  \n",
       "1    Oud-West, De Baarsjes               DX05                       Overtoom  \n",
       "2                      NaN                NaN                            NaN  \n",
       "3             Bijlmer-Oost               DX21                     Gravestein  \n",
       "4    Buitenveldert, Zuidas               DX11            Van Boshuizenstraat  "
      ]
     },
     "execution_count": 7,
     "metadata": {},
     "output_type": "execute_result"
    }
   ],
   "source": [
    "data.shape\n",
    "data.head()"
   ]
  },
  {
   "cell_type": "code",
   "execution_count": 59,
   "id": "e9e7dd6e-b3ba-4414-94c6-cd13f985c00c",
   "metadata": {},
   "outputs": [
    {
     "data": {
      "text/plain": [
       "(1349239, 12)"
      ]
     },
     "execution_count": 59,
     "metadata": {},
     "output_type": "execute_result"
    }
   ],
   "source": [
    "# Nulls in:\n",
    "# cluster_id\n",
    "# bag_adres_openbare_ruimte_naam\t\n",
    "# bag_adres_nummeraanduiding_postcode\t\n",
    "# bag_openbareruimte_naam\t\n",
    "# gbd_stadsdeel_naam\t\n",
    "# gbd_wijk_naam\n",
    "\n",
    "data = data.dropna()\n",
    "data.reset_index(drop=True, inplace=True)\n",
    "data.shape # #1.35M left, acceptable & nulls cannot really be attributed back to their true locations"
   ]
  },
  {
   "cell_type": "code",
   "execution_count": 60,
   "id": "25654596-5824-4d28-95ae-263277f58af4",
   "metadata": {},
   "outputs": [],
   "source": [
    "data['calculated_net'] = data['weging_eerste_weging']-data['weging_tweede_weging']"
   ]
  },
  {
   "cell_type": "code",
   "execution_count": 66,
   "id": "30955211-2c2b-44ab-9f13-206c40b5ff0a",
   "metadata": {},
   "outputs": [
    {
     "data": {
      "text/plain": [
       " 0.0       1247289\n",
       "-10.0         6645\n",
       "-20.0         3350\n",
       "-30.0         2269\n",
       "-40.0         1381\n",
       "            ...   \n",
       "-2195.0          1\n",
       "-2175.0          1\n",
       " 55.0            1\n",
       "-2155.0          1\n",
       "-3815.0          1\n",
       "Name: diff, Length: 976, dtype: int64"
      ]
     },
     "metadata": {},
     "output_type": "display_data"
    },
    {
     "data": {
      "image/png": "[encoded data removed]",
      "text/plain": [
       "<Figure size 360x360 with 1 Axes>"
      ]
     },
     "metadata": {
      "needs_background": "light"
     },
     "output_type": "display_data"
    },
    {
     "data": {
      "text/plain": [
       "(1349239, 14)"
      ]
     },
     "execution_count": 66,
     "metadata": {},
     "output_type": "execute_result"
    }
   ],
   "source": [
    "data['diff'] = data['calculated_net'] - data['weging_netto_gewicht']\n",
    "display(data['diff'].value_counts())\n",
    "\n",
    "sns.displot(data['diff']) \n",
    "plt.show()\n",
    "data.shape"
   ]
  },
  {
   "cell_type": "code",
   "execution_count": 62,
   "id": "cbd5eaa9-c6d9-481c-b1ba-2df053efee21",
   "metadata": {},
   "outputs": [
    {
     "data": {
      "text/plain": [
       " 0.0       17224\n",
       " 175.0     16969\n",
       " 190.0     16859\n",
       " 180.0     16749\n",
       " 170.0     16680\n",
       "           ...  \n",
       " 2490.0        1\n",
       " 2885.0        1\n",
       " 3690.0        1\n",
       " 2725.0        1\n",
       "-3535.0        1\n",
       "Name: calculated_net, Length: 1262, dtype: int64"
      ]
     },
     "metadata": {},
     "output_type": "display_data"
    },
    {
     "data": {
      "image/png": "[encoded data removed]",
      "text/plain": [
       "<Figure size 360x360 with 1 Axes>"
      ]
     },
     "metadata": {
      "needs_background": "light"
     },
     "output_type": "display_data"
    },
    {
     "data": {
      "text/plain": [
       "(1349239, 14)"
      ]
     },
     "execution_count": 62,
     "metadata": {},
     "output_type": "execute_result"
    }
   ],
   "source": [
    "display(data['calculated_net'].value_counts()) # use the calculated values and drop the negative outliers\n",
    "\n",
    "sns.displot(data['calculated_net'], bins = 50) \n",
    "plt.show()\n",
    "data.shape"
   ]
  },
  {
   "cell_type": "code",
   "execution_count": 67,
   "id": "74a633e0-cbfb-4bed-aa07-e54e62f370aa",
   "metadata": {},
   "outputs": [],
   "source": [
    "data = data[data['calculated_net'] > 0] # exclude negatives.. makes sense"
   ]
  },
  {
   "cell_type": "code",
   "execution_count": 68,
   "id": "a90622f8-c3b6-40c6-86a6-70470f37d385",
   "metadata": {},
   "outputs": [
    {
     "data": {
      "image/png": "[encoded data removed]",
      "text/plain": [
       "<Figure size 360x360 with 1 Axes>"
      ]
     },
     "metadata": {
      "needs_background": "light"
     },
     "output_type": "display_data"
    },
    {
     "data": {
      "text/plain": [
       "(1228430, 14)"
      ]
     },
     "execution_count": 68,
     "metadata": {},
     "output_type": "execute_result"
    }
   ],
   "source": [
    "sns.displot(data['calculated_net'], bins = 50) \n",
    "plt.show()\n",
    "data.shape # Still at #1.2M, this will be enough"
   ]
  },
  {
   "cell_type": "code",
   "execution_count": 69,
   "id": "62cb5451-19fe-47f4-8ec9-d44091ba950f",
   "metadata": {},
   "outputs": [],
   "source": [
    "district = pd.read_excel('2020-22-gebieden-3-15.xlsx', engine='openpyxl')\n",
    "district = district.dropna()\n",
    "district.reset_index(drop=True,inplace=True)\n",
    "district = district.drop([0,23])\n",
    "district.columns = ['district_id','district_name','citizens_in_district','citizens_with_income','average_personal_income','number_of_households','average_household_income','ind']\n",
    "district = district.drop(['ind'], axis = 1)\n",
    "\n",
    "for column in district.columns[2:]:\n",
    "    district[column] = district[column].apply(lambda x: x*1000) \n",
    "district\n",
    "district.to_csv('district.csv',index=False)"
   ]
  },
  {
   "cell_type": "code",
   "execution_count": 70,
   "id": "56ff4246-23cb-4025-9cc5-31130f00fe33",
   "metadata": {},
   "outputs": [],
   "source": [
    "data = data.drop(['weging_eerste_weging','weging_tweede_weging','weging_netto_gewicht','diff'], axis = 1) # drop unnecessary columns"
   ]
  },
  {
   "cell_type": "code",
   "execution_count": 71,
   "id": "aeb486ce-6b2b-4852-b225-923f5f41f0a8",
   "metadata": {},
   "outputs": [],
   "source": [
    "# Time for RegEx KING\n",
    "\n",
    "import re\n",
    "from datetime import datetime as dt\n",
    "\n",
    "pattern = '\\d{2}:\\d{2}:\\d{2}'\n",
    "data['time'] = 0\n",
    "data['time'] = data['weging_id'].apply(lambda x: dt.strptime(re.findall(pattern, x)[0], '%H:%M:%S').time())\n",
    "# created a pickup time from the unique 'weging_id' colummn, may be useful in time-analysis"
   ]
  },
  {
   "cell_type": "code",
   "execution_count": 79,
   "id": "52ea1a06-2773-456d-950d-a811a26fe835",
   "metadata": {},
   "outputs": [
    {
     "data": {
      "text/plain": [
       "Mixed waste    1021708\n",
       "Paper           100798\n",
       "Plastic          65020\n",
       "Glass            40888\n",
       "Textiles            16\n",
       "Name: weging_fractie_omschrijving, dtype: int64"
      ]
     },
     "metadata": {},
     "output_type": "display_data"
    }
   ],
   "source": [
    "# Cleaning the waste type column\n",
    "import numpy as np\n",
    "\n",
    "data['weging_fractie_omschrijving'] = data['weging_fractie_omschrijving'].apply(lambda x: x.capitalize())\n",
    "\n",
    "data['weging_fractie_omschrijving'] = np.where(data['weging_fractie_omschrijving'] == 'Rest', 'Mixed waste', data['weging_fractie_omschrijving'])\n",
    "data['weging_fractie_omschrijving'] = np.where(data['weging_fractie_omschrijving'] == 'Papier', 'Paper', data['weging_fractie_omschrijving'])\n",
    "data['weging_fractie_omschrijving'] = np.where(data['weging_fractie_omschrijving'] == 'Glas', 'Glass', data['weging_fractie_omschrijving'])\n",
    "data['weging_fractie_omschrijving'] = np.where(data['weging_fractie_omschrijving'] == 'Kunststof', 'Plastic', data['weging_fractie_omschrijving'])\n",
    "data['weging_fractie_omschrijving'] = np.where(data['weging_fractie_omschrijving'] == 'Textiel', 'Textiles', data['weging_fractie_omschrijving'])\n",
    "display(data['weging_fractie_omschrijving'].value_counts())"
   ]
  },
  {
   "cell_type": "code",
   "execution_count": 80,
   "id": "f52c5d1c-e2ce-45fe-b52c-5f6967a11a25",
   "metadata": {},
   "outputs": [],
   "source": [
    "# Change column names & order\n",
    "data.columns = ['cluster_id',\n",
    "                'waste_id',\n",
    "                'waste_date',\n",
    "                'waste_type',\n",
    "                'cluster_lat',\n",
    "                'cluster_lon',\n",
    "                'district_name',\n",
    "                'district_id',\n",
    "                'street_name',\n",
    "                'waste_weight',\n",
    "                'waste_time']\n",
    "\n",
    "data = data[['waste_id','cluster_id','cluster_lat','cluster_lon','waste_date','waste_time','waste_type','waste_weight','district_id','district_name','street_name']]"
   ]
  },
  {
   "cell_type": "code",
   "execution_count": 81,
   "id": "75860e5f-9a73-46fd-bb88-5485820f950d",
   "metadata": {},
   "outputs": [
    {
     "data": {
      "text/html": [
       "<div>\n",
       "<style scoped>\n",
       "    .dataframe tbody tr th:only-of-type {\n",
       "        vertical-align: middle;\n",
       "    }\n",
       "\n",
       "    .dataframe tbody tr th {\n",
       "        vertical-align: top;\n",
       "    }\n",
       "\n",
       "    .dataframe thead th {\n",
       "        text-align: right;\n",
       "    }\n",
       "</style>\n",
       "<table border=\"1\" class=\"dataframe\">\n",
       "  <thead>\n",
       "    <tr style=\"text-align: right;\">\n",
       "      <th></th>\n",
       "      <th>waste_id</th>\n",
       "      <th>cluster_id</th>\n",
       "      <th>cluster_lat</th>\n",
       "      <th>cluster_lon</th>\n",
       "      <th>waste_date</th>\n",
       "      <th>waste_time</th>\n",
       "      <th>waste_type</th>\n",
       "      <th>waste_weight</th>\n",
       "      <th>district_id</th>\n",
       "      <th>district_name</th>\n",
       "      <th>street_name</th>\n",
       "    </tr>\n",
       "  </thead>\n",
       "  <tbody>\n",
       "    <tr>\n",
       "      <th>0</th>\n",
       "      <td>10000~2017-02-17~09:12:03~26</td>\n",
       "      <td>128920.051|484940.826</td>\n",
       "      <td>52.35202</td>\n",
       "      <td>5.00440</td>\n",
       "      <td>2017-02-17</td>\n",
       "      <td>09:12:03</td>\n",
       "      <td>Mixed waste</td>\n",
       "      <td>75.0</td>\n",
       "      <td>DX16</td>\n",
       "      <td>IJburg, Zeeburgereiland</td>\n",
       "      <td>Eva Besnyöstraat</td>\n",
       "    </tr>\n",
       "    <tr>\n",
       "      <th>1</th>\n",
       "      <td>10000~2017-03-30~07:39:31~21</td>\n",
       "      <td>120064.880|486202.591</td>\n",
       "      <td>52.36260</td>\n",
       "      <td>4.87426</td>\n",
       "      <td>2017-03-30</td>\n",
       "      <td>07:39:31</td>\n",
       "      <td>Mixed waste</td>\n",
       "      <td>100.0</td>\n",
       "      <td>DX05</td>\n",
       "      <td>Oud-West, De Baarsjes</td>\n",
       "      <td>Overtoom</td>\n",
       "    </tr>\n",
       "    <tr>\n",
       "      <th>2</th>\n",
       "      <td>10000~2017-05-08~07:48:44~1</td>\n",
       "      <td>126423.325|481859.655</td>\n",
       "      <td>52.32406</td>\n",
       "      <td>4.96816</td>\n",
       "      <td>2017-05-08</td>\n",
       "      <td>07:48:44</td>\n",
       "      <td>Mixed waste</td>\n",
       "      <td>490.0</td>\n",
       "      <td>DX21</td>\n",
       "      <td>Bijlmer-Oost</td>\n",
       "      <td>Gravestein</td>\n",
       "    </tr>\n",
       "    <tr>\n",
       "      <th>3</th>\n",
       "      <td>10000~2017-12-01~13:20:22~221</td>\n",
       "      <td>121060.889|482000.344</td>\n",
       "      <td>52.32489</td>\n",
       "      <td>4.88950</td>\n",
       "      <td>2017-12-01</td>\n",
       "      <td>13:20:22</td>\n",
       "      <td>Mixed waste</td>\n",
       "      <td>260.0</td>\n",
       "      <td>DX11</td>\n",
       "      <td>Buitenveldert, Zuidas</td>\n",
       "      <td>Van Boshuizenstraat</td>\n",
       "    </tr>\n",
       "    <tr>\n",
       "      <th>4</th>\n",
       "      <td>10000~2017-12-22~08:20:49~37</td>\n",
       "      <td>123789.260|485255.579</td>\n",
       "      <td>52.35434</td>\n",
       "      <td>4.92904</td>\n",
       "      <td>2017-12-22</td>\n",
       "      <td>08:20:49</td>\n",
       "      <td>Mixed waste</td>\n",
       "      <td>160.0</td>\n",
       "      <td>DX15</td>\n",
       "      <td>Watergraafsmeer</td>\n",
       "      <td>Wakkerstraat</td>\n",
       "    </tr>\n",
       "    <tr>\n",
       "      <th>...</th>\n",
       "      <td>...</td>\n",
       "      <td>...</td>\n",
       "      <td>...</td>\n",
       "      <td>...</td>\n",
       "      <td>...</td>\n",
       "      <td>...</td>\n",
       "      <td>...</td>\n",
       "      <td>...</td>\n",
       "      <td>...</td>\n",
       "      <td>...</td>\n",
       "      <td>...</td>\n",
       "    </tr>\n",
       "    <tr>\n",
       "      <th>1349233</th>\n",
       "      <td>9~2020-01-24~08:19:15~30</td>\n",
       "      <td>124324.612|485506.262</td>\n",
       "      <td>52.35671</td>\n",
       "      <td>4.93702</td>\n",
       "      <td>2020-01-24</td>\n",
       "      <td>08:19:15</td>\n",
       "      <td>Mixed waste</td>\n",
       "      <td>150.0</td>\n",
       "      <td>DX15</td>\n",
       "      <td>Watergraafsmeer</td>\n",
       "      <td>Newtonstraat</td>\n",
       "    </tr>\n",
       "    <tr>\n",
       "      <th>1349234</th>\n",
       "      <td>1001~2020-06-30~09:12:52~17</td>\n",
       "      <td>119059.610|485875.456</td>\n",
       "      <td>52.35950</td>\n",
       "      <td>4.85941</td>\n",
       "      <td>2020-06-30</td>\n",
       "      <td>09:12:52</td>\n",
       "      <td>Plastic</td>\n",
       "      <td>70.0</td>\n",
       "      <td>DX05</td>\n",
       "      <td>Oud-West, De Baarsjes</td>\n",
       "      <td>J.J. Cremerplein</td>\n",
       "    </tr>\n",
       "    <tr>\n",
       "      <th>1349236</th>\n",
       "      <td>1001~2020-08-17~10:03:11~27</td>\n",
       "      <td>122807.846|484956.974</td>\n",
       "      <td>52.35159</td>\n",
       "      <td>4.91487</td>\n",
       "      <td>2020-08-17</td>\n",
       "      <td>10:03:11</td>\n",
       "      <td>Mixed waste</td>\n",
       "      <td>225.0</td>\n",
       "      <td>DX13</td>\n",
       "      <td>Oud-Oost</td>\n",
       "      <td>Hofmeyrstraat</td>\n",
       "    </tr>\n",
       "    <tr>\n",
       "      <th>1349237</th>\n",
       "      <td>1001~2020-08-17~10:58:33~28</td>\n",
       "      <td>122558.468|485631.864</td>\n",
       "      <td>52.35764</td>\n",
       "      <td>4.91084</td>\n",
       "      <td>2020-08-17</td>\n",
       "      <td>10:58:33</td>\n",
       "      <td>Mixed waste</td>\n",
       "      <td>130.0</td>\n",
       "      <td>DX13</td>\n",
       "      <td>Oud-Oost</td>\n",
       "      <td>Ruyschstraat</td>\n",
       "    </tr>\n",
       "    <tr>\n",
       "      <th>1349238</th>\n",
       "      <td>1001~2020-09-22~07:51:52~170</td>\n",
       "      <td>124087.635|486365.736</td>\n",
       "      <td>52.36438</td>\n",
       "      <td>4.93356</td>\n",
       "      <td>2020-09-22</td>\n",
       "      <td>07:51:52</td>\n",
       "      <td>Paper</td>\n",
       "      <td>160.0</td>\n",
       "      <td>DX14</td>\n",
       "      <td>Indische Buurt, Oostelijk Havengebied</td>\n",
       "      <td>Madurastraat</td>\n",
       "    </tr>\n",
       "  </tbody>\n",
       "</table>\n",
       "<p>1228430 rows × 11 columns</p>\n",
       "</div>"
      ],
      "text/plain": [
       "                              waste_id             cluster_id  cluster_lat  \\\n",
       "0         10000~2017-02-17~09:12:03~26  128920.051|484940.826     52.35202   \n",
       "1         10000~2017-03-30~07:39:31~21  120064.880|486202.591     52.36260   \n",
       "2          10000~2017-05-08~07:48:44~1  126423.325|481859.655     52.32406   \n",
       "3        10000~2017-12-01~13:20:22~221  121060.889|482000.344     52.32489   \n",
       "4         10000~2017-12-22~08:20:49~37  123789.260|485255.579     52.35434   \n",
       "...                                ...                    ...          ...   \n",
       "1349233       9~2020-01-24~08:19:15~30  124324.612|485506.262     52.35671   \n",
       "1349234    1001~2020-06-30~09:12:52~17  119059.610|485875.456     52.35950   \n",
       "1349236    1001~2020-08-17~10:03:11~27  122807.846|484956.974     52.35159   \n",
       "1349237    1001~2020-08-17~10:58:33~28  122558.468|485631.864     52.35764   \n",
       "1349238   1001~2020-09-22~07:51:52~170  124087.635|486365.736     52.36438   \n",
       "\n",
       "         cluster_lon waste_date waste_time   waste_type  waste_weight  \\\n",
       "0            5.00440 2017-02-17   09:12:03  Mixed waste          75.0   \n",
       "1            4.87426 2017-03-30   07:39:31  Mixed waste         100.0   \n",
       "2            4.96816 2017-05-08   07:48:44  Mixed waste         490.0   \n",
       "3            4.88950 2017-12-01   13:20:22  Mixed waste         260.0   \n",
       "4            4.92904 2017-12-22   08:20:49  Mixed waste         160.0   \n",
       "...              ...        ...        ...          ...           ...   \n",
       "1349233      4.93702 2020-01-24   08:19:15  Mixed waste         150.0   \n",
       "1349234      4.85941 2020-06-30   09:12:52      Plastic          70.0   \n",
       "1349236      4.91487 2020-08-17   10:03:11  Mixed waste         225.0   \n",
       "1349237      4.91084 2020-08-17   10:58:33  Mixed waste         130.0   \n",
       "1349238      4.93356 2020-09-22   07:51:52        Paper         160.0   \n",
       "\n",
       "        district_id                          district_name  \\\n",
       "0              DX16                IJburg, Zeeburgereiland   \n",
       "1              DX05                  Oud-West, De Baarsjes   \n",
       "2              DX21                           Bijlmer-Oost   \n",
       "3              DX11                  Buitenveldert, Zuidas   \n",
       "4              DX15                        Watergraafsmeer   \n",
       "...             ...                                    ...   \n",
       "1349233        DX15                        Watergraafsmeer   \n",
       "1349234        DX05                  Oud-West, De Baarsjes   \n",
       "1349236        DX13                               Oud-Oost   \n",
       "1349237        DX13                               Oud-Oost   \n",
       "1349238        DX14  Indische Buurt, Oostelijk Havengebied   \n",
       "\n",
       "                 street_name  \n",
       "0           Eva Besnyöstraat  \n",
       "1                   Overtoom  \n",
       "2                 Gravestein  \n",
       "3        Van Boshuizenstraat  \n",
       "4               Wakkerstraat  \n",
       "...                      ...  \n",
       "1349233         Newtonstraat  \n",
       "1349234     J.J. Cremerplein  \n",
       "1349236        Hofmeyrstraat  \n",
       "1349237         Ruyschstraat  \n",
       "1349238         Madurastraat  \n",
       "\n",
       "[1228430 rows x 11 columns]"
      ]
     },
     "execution_count": 81,
     "metadata": {},
     "output_type": "execute_result"
    }
   ],
   "source": [
    "data"
   ]
  },
  {
   "cell_type": "code",
   "execution_count": 82,
   "id": "11283116-3dad-497f-bc0f-1b7333066a07",
   "metadata": {},
   "outputs": [],
   "source": [
    "# Ready to roll\n",
    "data.reset_index(drop=True, inplace=True)\n",
    "data.to_csv('data_clean.csv',index=False)"
   ]
  },
  {
   "cell_type": "code",
   "execution_count": null,
   "id": "1ec092ed-90a2-4978-a889-4c792740a8db",
   "metadata": {},
   "outputs": [],
   "source": [
    "# Tableau Visualization of the above data\n",
    "# https://public.tableau.com/views/WhatDoRichDitch/WasteTypebyDistrict?:language=en-US&publish=yes&:display_count=n&:origin=viz_share_link"
   ]
  }
 ],
 "metadata": {
  "kernelspec": {
   "display_name": "Python 3 (ipykernel)",
   "language": "python",
   "name": "python3"
  },
  "language_info": {
   "codemirror_mode": {
    "name": "ipython",
    "version": 3
   },
   "file_extension": ".py",
   "mimetype": "text/x-python",
   "name": "python",
   "nbconvert_exporter": "python",
   "pygments_lexer": "ipython3",
   "version": "3.8.8"
  }
 },
 "nbformat": 4,
 "nbformat_minor": 5
}
